{
 "cells": [
  {
   "cell_type": "code",
   "execution_count": 113,
   "metadata": {
    "collapsed": true,
    "pycharm": {
     "is_executing": false,
     "name": "#%%\n"
    }
   },
   "outputs": [],
   "source": [
    "import pandas as pd\n",
    "\n",
    "# TODO:\n",
    "# - keep patientnrs (add for blood bank)"
   ]
  },
  {
   "cell_type": "code",
   "execution_count": 135,
   "outputs": [],
   "source": [
    "other_imid = pd.read_spss(\"../data/interim/OtherIMID.sav\") \n",
    "all = pd.read_spss(\"../data/interim/Alles 1e sample.sav\") # SLE patients (also has non- and other-IMID data)\n",
    "non_imid = pd.read_spss(\"../data/interim/Non-Imid control set.sav\")\n",
    "tmo = pd.read_csv(\"../data/interim/TMO.csv\") # blood bank controls (also has data from SLE patients)\n",
    "\n",
    "# load translation table of columns in TMO.csv vs. the .sav files\n",
    "df_cols = pd.read_csv(\"../references/chip_colnames.csv\", sep=\";\")  "
   ],
   "metadata": {
    "collapsed": false,
    "pycharm": {
     "name": "#%%\n",
     "is_executing": false
    }
   }
  },
  {
   "cell_type": "code",
   "execution_count": 132,
   "outputs": [],
   "source": [
    "sle = all[all.SLE == 1] # keep only SLE patients\n",
    "blood_bank = tmo[tmo.Class == \"nonSLE\"] # keep only blood baknk controls"
   ],
   "metadata": {
    "collapsed": false,
    "pycharm": {
     "name": "#%%\n",
     "is_executing": false
    }
   }
  },
  {
   "cell_type": "code",
   "execution_count": 150,
   "outputs": [],
   "source": [
    "df_cols = df_cols.dropna() # keep only names of columns that exist in both data sets\n",
    "new_colnames = df_cols.TB.tolist() # keep names as in .sav files\n",
    "new_colnames.append('Class') # extra column in blood bank data (we'll need it in the others as well)\n",
    "blood_bank.columns = new_colnames # rename columns as in other datasets"
   ],
   "metadata": {
    "collapsed": false,
    "pycharm": {
     "name": "#%%\n",
     "is_executing": false
    }
   }
  },
  {
   "cell_type": "code",
   "execution_count": 154,
   "outputs": [
    {
     "name": "stderr",
     "text": [
      "C:\\ProgramData\\Miniconda3\\envs\\SLE\\lib\\site-packages\\ipykernel_launcher.py:1: SettingWithCopyWarning: \n",
      "A value is trying to be set on a copy of a slice from a DataFrame.\n",
      "Try using .loc[row_indexer,col_indexer] = value instead\n",
      "\n",
      "See the caveats in the documentation: https://pandas.pydata.org/pandas-docs/stable/user_guide/indexing.html#returning-a-view-versus-a-copy\n",
      "  \"\"\"Entry point for launching an IPython kernel.\n",
      "C:\\ProgramData\\Miniconda3\\envs\\SLE\\lib\\site-packages\\ipykernel_launcher.py:7: SettingWithCopyWarning: \n",
      "A value is trying to be set on a copy of a slice from a DataFrame.\n",
      "Try using .loc[row_indexer,col_indexer] = value instead\n",
      "\n",
      "See the caveats in the documentation: https://pandas.pydata.org/pandas-docs/stable/user_guide/indexing.html#returning-a-view-versus-a-copy\n",
      "  import sys\n"
     ],
     "output_type": "stream"
    }
   ],
   "source": [
    "other_imid['Class'] = \"IMID\" \n",
    "other_imid = other_imid[new_colnames] # keep only columns that also occur in blood_bank\n",
    "\n",
    "non_imid['Class'] = \"nonIMID\"\n",
    "non_imid = non_imid[new_colnames]\n",
    "\n",
    "sle['Class'] = \"SLE\"\n",
    "sle = sle[new_colnames]"
   ],
   "metadata": {
    "collapsed": false,
    "pycharm": {
     "name": "#%%\n",
     "is_executing": false
    }
   }
  },
  {
   "cell_type": "code",
   "execution_count": 155,
   "outputs": [],
   "source": [
    "# join all data frames together by binding rows\n",
    "df_all = pd.concat([sle, other_imid, non_imid, blood_bank])"
   ],
   "metadata": {
    "collapsed": false,
    "pycharm": {
     "name": "#%%\n",
     "is_executing": false
    }
   }
  }
 ],
 "metadata": {
  "kernelspec": {
   "display_name": "Python 3",
   "language": "python",
   "name": "python3"
  },
  "language_info": {
   "codemirror_mode": {
    "name": "ipython",
    "version": 2
   },
   "file_extension": ".py",
   "mimetype": "text/x-python",
   "name": "python",
   "nbconvert_exporter": "python",
   "pygments_lexer": "ipython2",
   "version": "2.7.6"
  },
  "pycharm": {
   "stem_cell": {
    "cell_type": "raw",
    "source": [],
    "metadata": {
     "collapsed": false
    }
   }
  }
 },
 "nbformat": 4,
 "nbformat_minor": 0
}