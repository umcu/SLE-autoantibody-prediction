{
 "cells": [
  {
   "cell_type": "code",
   "execution_count": 1,
   "metadata": {
    "pycharm": {
     "is_executing": false,
     "name": "#%%\n"
    }
   },
   "outputs": [],
   "source": [
    "import pandas as pd\n",
    "import feather "
   ]
  },
  {
   "cell_type": "markdown",
   "metadata": {},
   "source": [
    "# Load data"
   ]
  },
  {
   "cell_type": "code",
   "execution_count": 2,
   "metadata": {
    "collapsed": false,
    "jupyter": {
     "outputs_hidden": false
    },
    "pycharm": {
     "is_executing": false,
     "name": "#%%\n"
    }
   },
   "outputs": [],
   "source": [
    "other_imid = pd.read_spss(\"../data/interim/OtherIMID.sav\") \n",
    "all_first = pd.read_spss(\"../data/interim/Alles 1e sample.sav\") # SLE patients (also has non- and other-IMID data)\n",
    "non_imid = pd.read_spss(\"../data/interim/Non-Imid control set.sav\")\n",
    "tmo = pd.read_csv(\"../data/interim/TMO.csv\") # blood bank controls (also has data from SLE patients)\n",
    "\n",
    "# load translation table of columns in TMO.csv vs. the .sav files\n",
    "df_cols = pd.read_csv(\"../references/chip_colnames.csv\", sep=\";\")"
   ]
  },
  {
   "cell_type": "code",
   "execution_count": 4,
   "metadata": {},
   "outputs": [],
   "source": [
    "other_imid.samplenr = other_imid.samplenr + 'A' # these are misformatted; add an \"A\" to mimic others (and distinguish from plain numeric)\n",
    "other_imid = other_imid.set_index('samplenr') \n",
    "all_first = all_first.set_index('samplenr')\n",
    "non_imid = non_imid.set_index('samplenr')"
   ]
  },
  {
   "cell_type": "markdown",
   "metadata": {},
   "source": [
    "# Process"
   ]
  },
  {
   "cell_type": "markdown",
   "metadata": {},
   "source": [
    "The `all` and `tmo` datasets contain data from more than one group"
   ]
  },
  {
   "cell_type": "code",
   "execution_count": 5,
   "metadata": {
    "collapsed": false,
    "jupyter": {
     "outputs_hidden": false
    },
    "pycharm": {
     "is_executing": false,
     "name": "#%%\n"
    }
   },
   "outputs": [],
   "source": [
    "sle = all_first[all_first.SLE == 1] # keep only SLE patients\n",
    "blood_bank = tmo[tmo.Class == \"nonSLE\"] # keep only blood bank controls"
   ]
  },
  {
   "cell_type": "markdown",
   "metadata": {},
   "source": [
    "The chip columns are called differently in the `blood_bank` dataset than in the others."
   ]
  },
  {
   "cell_type": "code",
   "execution_count": 6,
   "metadata": {},
   "outputs": [
    {
     "data": {
      "text/html": [
       "<div>\n",
       "<style scoped>\n",
       "    .dataframe tbody tr th:only-of-type {\n",
       "        vertical-align: middle;\n",
       "    }\n",
       "\n",
       "    .dataframe tbody tr th {\n",
       "        vertical-align: top;\n",
       "    }\n",
       "\n",
       "    .dataframe thead th {\n",
       "        text-align: right;\n",
       "    }\n",
       "</style>\n",
       "<table border=\"1\" class=\"dataframe\">\n",
       "  <thead>\n",
       "    <tr style=\"text-align: right;\">\n",
       "      <th></th>\n",
       "      <th>TF</th>\n",
       "      <th>TB_all</th>\n",
       "      <th>TB_selection</th>\n",
       "    </tr>\n",
       "  </thead>\n",
       "  <tbody>\n",
       "    <tr>\n",
       "      <th>0</th>\n",
       "      <td>Actinin</td>\n",
       "      <td>Actinin</td>\n",
       "      <td>Actinin</td>\n",
       "    </tr>\n",
       "    <tr>\n",
       "      <th>1</th>\n",
       "      <td>anti-IgE</td>\n",
       "      <td>antiIgE</td>\n",
       "      <td>NaN</td>\n",
       "    </tr>\n",
       "    <tr>\n",
       "      <th>2</th>\n",
       "      <td>ASCA</td>\n",
       "      <td>ASCA</td>\n",
       "      <td>ASCA</td>\n",
       "    </tr>\n",
       "    <tr>\n",
       "      <th>3</th>\n",
       "      <td>Beta2GP1</td>\n",
       "      <td>Beta2GP1</td>\n",
       "      <td>Beta2GP1</td>\n",
       "    </tr>\n",
       "    <tr>\n",
       "      <th>4</th>\n",
       "      <td>C1q</td>\n",
       "      <td>C1q</td>\n",
       "      <td>C1q</td>\n",
       "    </tr>\n",
       "    <tr>\n",
       "      <th>...</th>\n",
       "      <td>...</td>\n",
       "      <td>...</td>\n",
       "      <td>...</td>\n",
       "    </tr>\n",
       "    <tr>\n",
       "      <th>96</th>\n",
       "      <td>NaN</td>\n",
       "      <td>Strep15</td>\n",
       "      <td>NaN</td>\n",
       "    </tr>\n",
       "    <tr>\n",
       "      <th>97</th>\n",
       "      <td>NaN</td>\n",
       "      <td>Strep16</td>\n",
       "      <td>NaN</td>\n",
       "    </tr>\n",
       "    <tr>\n",
       "      <th>98</th>\n",
       "      <td>TIF1gamma</td>\n",
       "      <td>TIF1gamma</td>\n",
       "      <td>TIF1gamma</td>\n",
       "    </tr>\n",
       "    <tr>\n",
       "      <th>99</th>\n",
       "      <td>TPO</td>\n",
       "      <td>TPO</td>\n",
       "      <td>TPO</td>\n",
       "    </tr>\n",
       "    <tr>\n",
       "      <th>100</th>\n",
       "      <td>tTG</td>\n",
       "      <td>tTG</td>\n",
       "      <td>tTG</td>\n",
       "    </tr>\n",
       "  </tbody>\n",
       "</table>\n",
       "<p>101 rows × 3 columns</p>\n",
       "</div>"
      ],
      "text/plain": [
       "            TF     TB_all TB_selection\n",
       "0      Actinin    Actinin      Actinin\n",
       "1     anti-IgE    antiIgE          NaN\n",
       "2         ASCA       ASCA         ASCA\n",
       "3     Beta2GP1   Beta2GP1     Beta2GP1\n",
       "4          C1q        C1q          C1q\n",
       "..         ...        ...          ...\n",
       "96         NaN    Strep15          NaN\n",
       "97         NaN    Strep16          NaN\n",
       "98   TIF1gamma  TIF1gamma    TIF1gamma\n",
       "99         TPO        TPO          TPO\n",
       "100        tTG        tTG          tTG\n",
       "\n",
       "[101 rows x 3 columns]"
      ]
     },
     "execution_count": 6,
     "metadata": {},
     "output_type": "execute_result"
    }
   ],
   "source": [
    "df_cols"
   ]
  },
  {
   "cell_type": "markdown",
   "metadata": {},
   "source": [
    "- `TF` are the names in `blood_bank`\n",
    "- `TB_all` are the names in the other dfs\n",
    "- `TB_selection` are names of the variables that should be most interesting (e.g. excluding control spots on the chip).\n",
    "\n",
    "Each row corresponds to the same variable, but it might have a different name in each column!"
   ]
  },
  {
   "cell_type": "markdown",
   "metadata": {},
   "source": [
    "Rename the columns in `blood_bank` as in the other data sets:"
   ]
  },
  {
   "cell_type": "code",
   "execution_count": 7,
   "metadata": {
    "collapsed": false,
    "jupyter": {
     "outputs_hidden": false
    },
    "pycharm": {
     "is_executing": false,
     "name": "#%%\n"
    }
   },
   "outputs": [],
   "source": [
    "new_colnames = df_cols.TB_all[df_cols.TF.notnull()].tolist() # list of new names for blood bank columns\n",
    "blood_bank = blood_bank.drop(columns='Class') # this column is in blood_bank, but not in the list (we'll add it back later)\n",
    "blood_bank.columns = new_colnames # rename columns as in other datasets"
   ]
  },
  {
   "cell_type": "markdown",
   "metadata": {},
   "source": [
    "We want only the rows that have an entry in all three columns: these are the variables we want to use"
   ]
  },
  {
   "cell_type": "code",
   "execution_count": 8,
   "metadata": {},
   "outputs": [
    {
     "data": {
      "text/plain": [
       "['Actinin',\n",
       " 'ASCA',\n",
       " 'Beta2GP1',\n",
       " 'C1q',\n",
       " 'C3b',\n",
       " 'Cardiolipin',\n",
       " 'CCP1arg',\n",
       " 'CCP1cit',\n",
       " 'CENP',\n",
       " 'CMV',\n",
       " 'CollagenII',\n",
       " 'CpGmot',\n",
       " 'CRP1',\n",
       " 'DFS70',\n",
       " 'dsDNA2',\n",
       " 'Enolasearg',\n",
       " 'Enolasecit',\n",
       " 'EphB2',\n",
       " 'FcER',\n",
       " 'Fibrillarin',\n",
       " 'Ficolin',\n",
       " 'GAPDH',\n",
       " 'GBM',\n",
       " 'H2Bp',\n",
       " 'H2Bpac',\n",
       " 'H4p',\n",
       " 'H4pac',\n",
       " 'Histones',\n",
       " 'IFNLambda',\n",
       " 'IFNOmega',\n",
       " 'Jo1',\n",
       " 'Ku',\n",
       " 'LaSSB',\n",
       " 'MBL2',\n",
       " 'Mi2',\n",
       " 'Nucleosome',\n",
       " 'PCNA',\n",
       " 'Pentraxin3',\n",
       " 'PmScl100',\n",
       " 'RA33',\n",
       " 'RipP0',\n",
       " 'RipP0peptide',\n",
       " 'RipP1',\n",
       " 'RipP2',\n",
       " 'RNAPolIII',\n",
       " 'RNP70',\n",
       " 'RNPA',\n",
       " 'RNPC',\n",
       " 'Ro52',\n",
       " 'Ro60',\n",
       " 'RPP25ThTo',\n",
       " 'Scl70',\n",
       " 'SmBB',\n",
       " 'SMP',\n",
       " 'TIF1gamma',\n",
       " 'TPO',\n",
       " 'tTG']"
      ]
     },
     "execution_count": 8,
     "metadata": {},
     "output_type": "execute_result"
    }
   ],
   "source": [
    "keep_cols = df_cols.dropna().TB_all.tolist() # names of variables that exist in both datasets, and that are of interest\n",
    "keep_cols"
   ]
  },
  {
   "cell_type": "markdown",
   "metadata": {},
   "source": [
    "In all datasets, keep only columns of interest"
   ]
  },
  {
   "cell_type": "code",
   "execution_count": 9,
   "metadata": {
    "collapsed": false,
    "jupyter": {
     "outputs_hidden": false
    },
    "pycharm": {
     "is_executing": false,
     "name": "#%%\n"
    }
   },
   "outputs": [],
   "source": [
    "blood_bank = blood_bank.loc[:,keep_cols] # keep only columns of interest\n",
    "other_imid = other_imid.loc[:,keep_cols] \n",
    "non_imid = non_imid.loc[:,keep_cols]\n",
    "sle = sle.loc[:,keep_cols]"
   ]
  },
  {
   "cell_type": "markdown",
   "metadata": {},
   "source": [
    "Discard one SLE patient with missing data"
   ]
  },
  {
   "cell_type": "code",
   "execution_count": null,
   "metadata": {},
   "outputs": [],
   "source": [
    "sle.dropna() # serum from one SLE patient was not run on chip"
   ]
  },
  {
   "cell_type": "markdown",
   "metadata": {},
   "source": [
    "And row-bind all the data frames together"
   ]
  },
  {
   "cell_type": "code",
   "execution_count": 11,
   "metadata": {
    "collapsed": false,
    "jupyter": {
     "outputs_hidden": false
    },
    "pycharm": {
     "is_executing": false,
     "name": "#%%\n"
    }
   },
   "outputs": [],
   "source": [
    "# add class to distinguish from others\n",
    "blood_bank['Class'] = \"nonSLE\"\n",
    "other_imid['Class'] = \"IMID\" \n",
    "non_imid['Class'] = \"nonIMID\" \n",
    "sle['Class'] = \"SLE\"\n",
    "# join all data frames together by binding rows\n",
    "df_all = pd.concat([sle, other_imid, non_imid, blood_bank])"
   ]
  },
  {
   "cell_type": "code",
   "execution_count": 12,
   "metadata": {},
   "outputs": [
    {
     "data": {
      "text/plain": [
       "SLE        484\n",
       "nonSLE     361\n",
       "IMID       346\n",
       "nonIMID    218\n",
       "Name: Class, dtype: int64"
      ]
     },
     "execution_count": 12,
     "metadata": {},
     "output_type": "execute_result"
    }
   ],
   "source": [
    "df_all['Class'].value_counts()"
   ]
  },
  {
   "cell_type": "markdown",
   "metadata": {},
   "source": [
    "# Write data"
   ]
  },
  {
   "cell_type": "code",
   "execution_count": 13,
   "metadata": {},
   "outputs": [],
   "source": [
    "feather.write_dataframe(df_all, \"../data/processed/imid.feather\")"
   ]
  }
 ],
 "metadata": {
  "kernelspec": {
   "display_name": "Python 3",
   "language": "python",
   "name": "python3"
  },
  "language_info": {
   "codemirror_mode": {
    "name": "ipython",
    "version": 3
   },
   "file_extension": ".py",
   "mimetype": "text/x-python",
   "name": "python",
   "nbconvert_exporter": "python",
   "pygments_lexer": "ipython3",
   "version": "3.7.5"
  },
  "pycharm": {
   "stem_cell": {
    "cell_type": "raw",
    "metadata": {
     "collapsed": false
    },
    "source": []
   }
  }
 },
 "nbformat": 4,
 "nbformat_minor": 4
}
