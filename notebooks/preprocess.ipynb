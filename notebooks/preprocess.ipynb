{
 "cells": [
  {
   "cell_type": "code",
   "execution_count": 9,
   "metadata": {
    "pycharm": {
     "is_executing": false,
     "name": "#%%\n"
    }
   },
   "outputs": [],
   "source": [
    "import pandas as pd\n",
    "import feather \n",
    "\n",
    "# TODO:\n",
    "# - keep patientnrs (add for blood bank)"
   ]
  },
  {
   "cell_type": "markdown",
   "metadata": {},
   "source": [
    "# Load data"
   ]
  },
  {
   "cell_type": "code",
   "execution_count": 10,
   "metadata": {
    "collapsed": false,
    "jupyter": {
     "outputs_hidden": false
    },
    "pycharm": {
     "is_executing": false,
     "name": "#%%\n"
    }
   },
   "outputs": [],
   "source": [
    "other_imid = pd.read_spss(\"../data/interim/OtherIMID.sav\") \n",
    "all = pd.read_spss(\"../data/interim/Alles 1e sample.sav\") # SLE patients (also has non- and other-IMID data)\n",
    "non_imid = pd.read_spss(\"../data/interim/Non-Imid control set.sav\")\n",
    "tmo = pd.read_csv(\"../data/interim/TMO.csv\") # blood bank controls (also has data from SLE patients)\n",
    "\n",
    "# load translation table of columns in TMO.csv vs. the .sav files\n",
    "df_cols = pd.read_csv(\"../references/chip_colnames.csv\", sep=\";\")  "
   ]
  },
  {
   "cell_type": "markdown",
   "metadata": {},
   "source": [
    "# Process"
   ]
  },
  {
   "cell_type": "code",
   "execution_count": 11,
   "metadata": {
    "collapsed": false,
    "jupyter": {
     "outputs_hidden": false
    },
    "pycharm": {
     "is_executing": false,
     "name": "#%%\n"
    }
   },
   "outputs": [],
   "source": [
    "sle = all[all.SLE == 1] # keep only SLE patientsb\n",
    "blood_bank = tmo[tmo.Class == \"nonSLE\"] # keep only blood baknk controls"
   ]
  },
  {
   "cell_type": "markdown",
   "metadata": {},
   "source": [
    "The chip columns are called differently in the blood_bank dataset than in the others. So we'll rename the columns there"
   ]
  },
  {
   "cell_type": "code",
   "execution_count": 12,
   "metadata": {
    "collapsed": false,
    "jupyter": {
     "outputs_hidden": false
    },
    "pycharm": {
     "is_executing": false,
     "name": "#%%\n"
    }
   },
   "outputs": [],
   "source": [
    "df_cols = df_cols.dropna() # keep only names of columns that exist in both data sets\n",
    "new_colnames = df_cols.TB.tolist() # keep names as in .sav files\n",
    "new_colnames.append('Class') # extra column in blood bank data (we'll need it in the others as well)\n",
    "blood_bank.columns = new_colnames # rename columns as in other datasets"
   ]
  },
  {
   "cell_type": "markdown",
   "metadata": {},
   "source": [
    "Then, for the others, keep only the TF chip data (i.e. the columns in the blood bank dataset"
   ]
  },
  {
   "cell_type": "code",
   "execution_count": 14,
   "metadata": {
    "collapsed": false,
    "jupyter": {
     "outputs_hidden": false
    },
    "pycharm": {
     "is_executing": false,
     "name": "#%%\n"
    }
   },
   "outputs": [],
   "source": [
    "other_imid['Class'] = \"IMID\" \n",
    "other_imid = other_imid.loc[:,new_colnames] # keep only columns that also occur in blood_bank\n",
    "\n",
    "non_imid['Class'] = \"nonIMID\"\n",
    "non_imid = non_imid.loc[:,new_colnames]\n",
    "\n",
    "sle['Class'] = \"SLE\"\n",
    "sle = sle.loc[:,new_colnames]"
   ]
  },
  {
   "cell_type": "markdown",
   "metadata": {},
   "source": [
    "And row-bind all the data frames together"
   ]
  },
  {
   "cell_type": "code",
   "execution_count": 24,
   "metadata": {
    "collapsed": false,
    "jupyter": {
     "outputs_hidden": false
    },
    "pycharm": {
     "is_executing": false,
     "name": "#%%\n"
    }
   },
   "outputs": [],
   "source": [
    "# join all data frames together by binding rows\n",
    "df_all = pd.concat([sle, other_imid, non_imid, blood_bank])"
   ]
  },
  {
   "cell_type": "markdown",
   "metadata": {},
   "source": [
    "# Write data"
   ]
  },
  {
   "cell_type": "code",
   "execution_count": 23,
   "metadata": {},
   "outputs": [],
   "source": [
    "feather.write_dataframe(df_all, \"../data/processed/imid.feather\")"
   ]
  }
 ],
 "metadata": {
  "kernelspec": {
   "display_name": "Python 3",
   "language": "python",
   "name": "python3"
  },
  "language_info": {
   "codemirror_mode": {
    "name": "ipython",
    "version": 3
   },
   "file_extension": ".py",
   "mimetype": "text/x-python",
   "name": "python",
   "nbconvert_exporter": "python",
   "pygments_lexer": "ipython3",
   "version": "3.7.5"
  },
  "pycharm": {
   "stem_cell": {
    "cell_type": "raw",
    "metadata": {
     "collapsed": false
    },
    "source": []
   }
  }
 },
 "nbformat": 4,
 "nbformat_minor": 4
}
