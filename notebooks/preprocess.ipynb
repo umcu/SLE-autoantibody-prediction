{
 "cells": [
  {
   "cell_type": "code",
   "execution_count": 12,
   "metadata": {
    "pycharm": {
     "is_executing": false,
     "name": "#%%\n"
    }
   },
   "outputs": [],
   "source": [
    "import pandas as pd\n",
    "import feather \n",
    "\n",
    "# TODO:\n",
    "# - patient/samplenrs as index (add for blood bank)\n",
    "# - filter null SLE\n",
    "# - \"all\" name"
   ]
  },
  {
   "cell_type": "markdown",
   "metadata": {},
   "source": [
    "# Load data"
   ]
  },
  {
   "cell_type": "code",
   "execution_count": 13,
   "metadata": {
    "collapsed": false,
    "jupyter": {
     "outputs_hidden": false
    },
    "pycharm": {
     "is_executing": false,
     "name": "#%%\n"
    }
   },
   "outputs": [],
   "source": [
    "other_imid = pd.read_spss(\"../data/interim/OtherIMID.sav\") \n",
    "all = pd.read_spss(\"../data/interim/Alles 1e sample.sav\") # SLE patients (also has non- and other-IMID data)\n",
    "non_imid = pd.read_spss(\"../data/interim/Non-Imid control set.sav\")\n",
    "tmo = pd.read_csv(\"../data/interim/TMO.csv\") # blood bank controls (also has data from SLE patients)\n",
    "\n",
    "# load translation table of columns in TMO.csv vs. the .sav files\n",
    "df_cols = pd.read_csv(\"../references/chip_colnames.csv\", sep=\";\")"
   ]
  },
  {
   "cell_type": "markdown",
   "metadata": {},
   "source": [
    "# Process"
   ]
  },
  {
   "cell_type": "markdown",
   "metadata": {},
   "source": [
    "The `all` and `tmo` datasets contain data from more than one group"
   ]
  },
  {
   "cell_type": "code",
   "execution_count": 14,
   "metadata": {
    "collapsed": false,
    "jupyter": {
     "outputs_hidden": false
    },
    "pycharm": {
     "is_executing": false,
     "name": "#%%\n"
    }
   },
   "outputs": [],
   "source": [
    "sle = all[all.SLE == 1] # keep only SLE patients\n",
    "blood_bank = tmo[tmo.Class == \"nonSLE\"] # keep only blood bank controls"
   ]
  },
  {
   "cell_type": "markdown",
   "metadata": {},
   "source": [
    "The chip columns are called differently in the `blood_bank` dataset than in the others.  `df_cols` keeps track of this:"
   ]
  },
  {
   "cell_type": "code",
   "execution_count": 15,
   "metadata": {},
   "outputs": [
    {
     "data": {
      "text/html": [
       "<div>\n",
       "<style scoped>\n",
       "    .dataframe tbody tr th:only-of-type {\n",
       "        vertical-align: middle;\n",
       "    }\n",
       "\n",
       "    .dataframe tbody tr th {\n",
       "        vertical-align: top;\n",
       "    }\n",
       "\n",
       "    .dataframe thead th {\n",
       "        text-align: right;\n",
       "    }\n",
       "</style>\n",
       "<table border=\"1\" class=\"dataframe\">\n",
       "  <thead>\n",
       "    <tr style=\"text-align: right;\">\n",
       "      <th></th>\n",
       "      <th>TF</th>\n",
       "      <th>TB_all</th>\n",
       "      <th>TB_selection</th>\n",
       "    </tr>\n",
       "  </thead>\n",
       "  <tbody>\n",
       "    <tr>\n",
       "      <th>0</th>\n",
       "      <td>Actinin</td>\n",
       "      <td>Actinin</td>\n",
       "      <td>Actinin</td>\n",
       "    </tr>\n",
       "    <tr>\n",
       "      <th>1</th>\n",
       "      <td>anti-IgE</td>\n",
       "      <td>antiIgE</td>\n",
       "      <td>NaN</td>\n",
       "    </tr>\n",
       "    <tr>\n",
       "      <th>2</th>\n",
       "      <td>ASCA</td>\n",
       "      <td>ASCA</td>\n",
       "      <td>ASCA</td>\n",
       "    </tr>\n",
       "    <tr>\n",
       "      <th>3</th>\n",
       "      <td>Beta2GP1</td>\n",
       "      <td>Beta2GP1</td>\n",
       "      <td>Beta2GP1</td>\n",
       "    </tr>\n",
       "    <tr>\n",
       "      <th>4</th>\n",
       "      <td>C1q</td>\n",
       "      <td>C1q</td>\n",
       "      <td>C1q</td>\n",
       "    </tr>\n",
       "    <tr>\n",
       "      <th>...</th>\n",
       "      <td>...</td>\n",
       "      <td>...</td>\n",
       "      <td>...</td>\n",
       "    </tr>\n",
       "    <tr>\n",
       "      <th>96</th>\n",
       "      <td>NaN</td>\n",
       "      <td>Strep15</td>\n",
       "      <td>NaN</td>\n",
       "    </tr>\n",
       "    <tr>\n",
       "      <th>97</th>\n",
       "      <td>NaN</td>\n",
       "      <td>Strep16</td>\n",
       "      <td>NaN</td>\n",
       "    </tr>\n",
       "    <tr>\n",
       "      <th>98</th>\n",
       "      <td>TIF1gamma</td>\n",
       "      <td>TIF1gamma</td>\n",
       "      <td>TIF1gamma</td>\n",
       "    </tr>\n",
       "    <tr>\n",
       "      <th>99</th>\n",
       "      <td>TPO</td>\n",
       "      <td>TPO</td>\n",
       "      <td>TPO</td>\n",
       "    </tr>\n",
       "    <tr>\n",
       "      <th>100</th>\n",
       "      <td>tTG</td>\n",
       "      <td>tTG</td>\n",
       "      <td>tTG</td>\n",
       "    </tr>\n",
       "  </tbody>\n",
       "</table>\n",
       "<p>101 rows × 3 columns</p>\n",
       "</div>"
      ],
      "text/plain": [
       "            TF     TB_all TB_selection\n",
       "0      Actinin    Actinin      Actinin\n",
       "1     anti-IgE    antiIgE          NaN\n",
       "2         ASCA       ASCA         ASCA\n",
       "3     Beta2GP1   Beta2GP1     Beta2GP1\n",
       "4          C1q        C1q          C1q\n",
       "..         ...        ...          ...\n",
       "96         NaN    Strep15          NaN\n",
       "97         NaN    Strep16          NaN\n",
       "98   TIF1gamma  TIF1gamma    TIF1gamma\n",
       "99         TPO        TPO          TPO\n",
       "100        tTG        tTG          tTG\n",
       "\n",
       "[101 rows x 3 columns]"
      ]
     },
     "execution_count": 15,
     "metadata": {},
     "output_type": "execute_result"
    }
   ],
   "source": [
    "df_cols"
   ]
  },
  {
   "cell_type": "markdown",
   "metadata": {},
   "source": [
    "- `TF` are the names in `blood_bank`\n",
    "- `TB_all` are the names in the other dfs\n",
    "- `TB_selection` are names of the variables that should be most interesting (e.g. excluding control spots on the chip).\n",
    "\n",
    "Each row corresponds to the same variable, but it might have a different name in each column!"
   ]
  },
  {
   "cell_type": "markdown",
   "metadata": {},
   "source": [
    "Rename the columns in `blood_bank` as in the other data sets:"
   ]
  },
  {
   "cell_type": "code",
   "execution_count": 16,
   "metadata": {
    "collapsed": false,
    "jupyter": {
     "outputs_hidden": false
    },
    "pycharm": {
     "is_executing": false,
     "name": "#%%\n"
    }
   },
   "outputs": [],
   "source": [
    "new_colnames = df_cols.TB_all[df_cols.TF.notnull()].tolist() # list of new names for blood bank columns\n",
    "blood_bank = blood_bank.drop(columns='Class') # this column is in blood_bank, but not in the list (we'll add it back later)\n",
    "blood_bank.columns = new_colnames # rename columns as in other datasets"
   ]
  },
  {
   "cell_type": "markdown",
   "metadata": {},
   "source": [
    "We want only the rows that have an entry in all three columns: these are the variables we want to use"
   ]
  },
  {
   "cell_type": "code",
   "execution_count": 17,
   "metadata": {},
   "outputs": [
    {
     "data": {
      "text/plain": [
       "['Actinin',\n",
       " 'ASCA',\n",
       " 'Beta2GP1',\n",
       " 'C1q',\n",
       " 'C3b',\n",
       " 'Cardiolipin',\n",
       " 'CCP1arg',\n",
       " 'CCP1cit',\n",
       " 'CENP',\n",
       " 'CMV',\n",
       " 'CollagenII',\n",
       " 'CpGmot',\n",
       " 'CRP1',\n",
       " 'DFS70',\n",
       " 'dsDNA2',\n",
       " 'Enolasearg',\n",
       " 'Enolasecit',\n",
       " 'EphB2',\n",
       " 'FcER',\n",
       " 'Fibrillarin',\n",
       " 'Ficolin',\n",
       " 'GAPDH',\n",
       " 'GBM',\n",
       " 'H2Bp',\n",
       " 'H2Bpac',\n",
       " 'H4p',\n",
       " 'H4pac',\n",
       " 'Histones',\n",
       " 'IFNLambda',\n",
       " 'IFNOmega',\n",
       " 'Jo1',\n",
       " 'Ku',\n",
       " 'LaSSB',\n",
       " 'MBL2',\n",
       " 'Mi2',\n",
       " 'Nucleosome',\n",
       " 'PCNA',\n",
       " 'Pentraxin3',\n",
       " 'PmScl100',\n",
       " 'RA33',\n",
       " 'RipP0',\n",
       " 'RipP0peptide',\n",
       " 'RipP1',\n",
       " 'RipP2',\n",
       " 'RNAPolIII',\n",
       " 'RNP70',\n",
       " 'RNPA',\n",
       " 'RNPC',\n",
       " 'Ro52',\n",
       " 'Ro60',\n",
       " 'RPP25ThTo',\n",
       " 'Scl70',\n",
       " 'SmBB',\n",
       " 'SMP',\n",
       " 'TIF1gamma',\n",
       " 'TPO',\n",
       " 'tTG']"
      ]
     },
     "execution_count": 17,
     "metadata": {},
     "output_type": "execute_result"
    }
   ],
   "source": [
    "keep_cols = df_cols.dropna().TB_all.tolist() # names of variables that exist in both datasets, and that are of interest\n",
    "keep_cols"
   ]
  },
  {
   "cell_type": "markdown",
   "metadata": {},
   "source": [
    "In all datasets, keep only columns of interest"
   ]
  },
  {
   "cell_type": "code",
   "execution_count": 18,
   "metadata": {
    "collapsed": false,
    "jupyter": {
     "outputs_hidden": false
    },
    "pycharm": {
     "is_executing": false,
     "name": "#%%\n"
    }
   },
   "outputs": [],
   "source": [
    "blood_bank = blood_bank.loc[:,keep_cols] # keep only columns of interest\n",
    "other_imid = other_imid.loc[:,keep_cols] \n",
    "non_imid = non_imid.loc[:,keep_cols]\n",
    "sle = sle.loc[:,keep_cols]"
   ]
  },
  {
   "cell_type": "markdown",
   "metadata": {},
   "source": [
    "And row-bind all the data frames together"
   ]
  },
  {
   "cell_type": "code",
   "execution_count": 19,
   "metadata": {
    "collapsed": false,
    "jupyter": {
     "outputs_hidden": false
    },
    "pycharm": {
     "is_executing": false,
     "name": "#%%\n"
    }
   },
   "outputs": [],
   "source": [
    "# add class to distinguish from others\n",
    "blood_bank['Class'] = \"nonSLE\"\n",
    "other_imid['Class'] = \"IMID\" \n",
    "non_imid['Class'] = \"nonIMID\" \n",
    "sle['Class'] = \"SLE\"\n",
    "# join all data frames together by binding rows\n",
    "df_all = pd.concat([sle, other_imid, non_imid, blood_bank])"
   ]
  },
  {
   "cell_type": "code",
   "execution_count": 20,
   "metadata": {},
   "outputs": [
    {
     "data": {
      "text/html": [
       "<div>\n",
       "<style scoped>\n",
       "    .dataframe tbody tr th:only-of-type {\n",
       "        vertical-align: middle;\n",
       "    }\n",
       "\n",
       "    .dataframe tbody tr th {\n",
       "        vertical-align: top;\n",
       "    }\n",
       "\n",
       "    .dataframe thead th {\n",
       "        text-align: right;\n",
       "    }\n",
       "</style>\n",
       "<table border=\"1\" class=\"dataframe\">\n",
       "  <thead>\n",
       "    <tr style=\"text-align: right;\">\n",
       "      <th></th>\n",
       "      <th>Actinin</th>\n",
       "      <th>ASCA</th>\n",
       "      <th>Beta2GP1</th>\n",
       "      <th>C1q</th>\n",
       "      <th>C3b</th>\n",
       "      <th>Cardiolipin</th>\n",
       "      <th>CCP1arg</th>\n",
       "      <th>CCP1cit</th>\n",
       "      <th>CENP</th>\n",
       "      <th>CMV</th>\n",
       "      <th>...</th>\n",
       "      <th>Ro52</th>\n",
       "      <th>Ro60</th>\n",
       "      <th>RPP25ThTo</th>\n",
       "      <th>Scl70</th>\n",
       "      <th>SmBB</th>\n",
       "      <th>SMP</th>\n",
       "      <th>TIF1gamma</th>\n",
       "      <th>TPO</th>\n",
       "      <th>tTG</th>\n",
       "      <th>Class</th>\n",
       "    </tr>\n",
       "  </thead>\n",
       "  <tbody>\n",
       "    <tr>\n",
       "      <th>2</th>\n",
       "      <td>94.8911</td>\n",
       "      <td>1117.530</td>\n",
       "      <td>1328.0800</td>\n",
       "      <td>88.0225</td>\n",
       "      <td>115.4250</td>\n",
       "      <td>55.1872</td>\n",
       "      <td>42.1010</td>\n",
       "      <td>40.3490</td>\n",
       "      <td>65.5990</td>\n",
       "      <td>1177.9000</td>\n",
       "      <td>...</td>\n",
       "      <td>1200.420</td>\n",
       "      <td>3849.4900</td>\n",
       "      <td>36.8393</td>\n",
       "      <td>109.4460</td>\n",
       "      <td>222.8190</td>\n",
       "      <td>157.0750</td>\n",
       "      <td>283.8950</td>\n",
       "      <td>1011.080</td>\n",
       "      <td>170.611</td>\n",
       "      <td>SLE</td>\n",
       "    </tr>\n",
       "    <tr>\n",
       "      <th>4</th>\n",
       "      <td>99.9188</td>\n",
       "      <td>1295.260</td>\n",
       "      <td>119.1230</td>\n",
       "      <td>133.0480</td>\n",
       "      <td>59.4884</td>\n",
       "      <td>39.9630</td>\n",
       "      <td>39.0714</td>\n",
       "      <td>39.0714</td>\n",
       "      <td>35.5006</td>\n",
       "      <td>1023.6600</td>\n",
       "      <td>...</td>\n",
       "      <td>182.428</td>\n",
       "      <td>538.5860</td>\n",
       "      <td>47.0820</td>\n",
       "      <td>126.9600</td>\n",
       "      <td>96.4191</td>\n",
       "      <td>114.7650</td>\n",
       "      <td>84.1488</td>\n",
       "      <td>1111.850</td>\n",
       "      <td>146.075</td>\n",
       "      <td>SLE</td>\n",
       "    </tr>\n",
       "    <tr>\n",
       "      <th>5</th>\n",
       "      <td>121.3530</td>\n",
       "      <td>2636.220</td>\n",
       "      <td>38.4903</td>\n",
       "      <td>85.9066</td>\n",
       "      <td>117.8180</td>\n",
       "      <td>38.4903</td>\n",
       "      <td>42.0952</td>\n",
       "      <td>40.2934</td>\n",
       "      <td>53.7753</td>\n",
       "      <td>76.1163</td>\n",
       "      <td>...</td>\n",
       "      <td>407.374</td>\n",
       "      <td>3314.8400</td>\n",
       "      <td>51.9816</td>\n",
       "      <td>115.1650</td>\n",
       "      <td>721.0810</td>\n",
       "      <td>113.3960</td>\n",
       "      <td>154.8510</td>\n",
       "      <td>109.857</td>\n",
       "      <td>128.418</td>\n",
       "      <td>SLE</td>\n",
       "    </tr>\n",
       "    <tr>\n",
       "      <th>8</th>\n",
       "      <td>145.0990</td>\n",
       "      <td>995.634</td>\n",
       "      <td>509.1220</td>\n",
       "      <td>171.8770</td>\n",
       "      <td>179.0070</td>\n",
       "      <td>60.6069</td>\n",
       "      <td>67.8459</td>\n",
       "      <td>52.4473</td>\n",
       "      <td>203.9280</td>\n",
       "      <td>8717.1000</td>\n",
       "      <td>...</td>\n",
       "      <td>265.153</td>\n",
       "      <td>243.8840</td>\n",
       "      <td>66.9417</td>\n",
       "      <td>591.4510</td>\n",
       "      <td>291.7020</td>\n",
       "      <td>148.6730</td>\n",
       "      <td>4777.2800</td>\n",
       "      <td>765.190</td>\n",
       "      <td>211.928</td>\n",
       "      <td>SLE</td>\n",
       "    </tr>\n",
       "    <tr>\n",
       "      <th>9</th>\n",
       "      <td>66.0117</td>\n",
       "      <td>994.225</td>\n",
       "      <td>40.8654</td>\n",
       "      <td>184.3840</td>\n",
       "      <td>85.9921</td>\n",
       "      <td>44.1397</td>\n",
       "      <td>42.5038</td>\n",
       "      <td>43.3220</td>\n",
       "      <td>33.4571</td>\n",
       "      <td>3849.9300</td>\n",
       "      <td>...</td>\n",
       "      <td>1216.400</td>\n",
       "      <td>11671.5000</td>\n",
       "      <td>42.5038</td>\n",
       "      <td>76.4287</td>\n",
       "      <td>82.8095</td>\n",
       "      <td>66.8153</td>\n",
       "      <td>103.4140</td>\n",
       "      <td>716.172</td>\n",
       "      <td>237.993</td>\n",
       "      <td>SLE</td>\n",
       "    </tr>\n",
       "    <tr>\n",
       "      <th>...</th>\n",
       "      <td>...</td>\n",
       "      <td>...</td>\n",
       "      <td>...</td>\n",
       "      <td>...</td>\n",
       "      <td>...</td>\n",
       "      <td>...</td>\n",
       "      <td>...</td>\n",
       "      <td>...</td>\n",
       "      <td>...</td>\n",
       "      <td>...</td>\n",
       "      <td>...</td>\n",
       "      <td>...</td>\n",
       "      <td>...</td>\n",
       "      <td>...</td>\n",
       "      <td>...</td>\n",
       "      <td>...</td>\n",
       "      <td>...</td>\n",
       "      <td>...</td>\n",
       "      <td>...</td>\n",
       "      <td>...</td>\n",
       "      <td>...</td>\n",
       "    </tr>\n",
       "    <tr>\n",
       "      <th>861</th>\n",
       "      <td>232.6780</td>\n",
       "      <td>2684.170</td>\n",
       "      <td>151.5480</td>\n",
       "      <td>612.2970</td>\n",
       "      <td>297.4040</td>\n",
       "      <td>116.1780</td>\n",
       "      <td>123.0410</td>\n",
       "      <td>127.9480</td>\n",
       "      <td>62.5797</td>\n",
       "      <td>384.4660</td>\n",
       "      <td>...</td>\n",
       "      <td>719.785</td>\n",
       "      <td>908.1220</td>\n",
       "      <td>130.8930</td>\n",
       "      <td>379.4510</td>\n",
       "      <td>171.2710</td>\n",
       "      <td>150.5630</td>\n",
       "      <td>171.2710</td>\n",
       "      <td>9299.620</td>\n",
       "      <td>1435.100</td>\n",
       "      <td>nonSLE</td>\n",
       "    </tr>\n",
       "    <tr>\n",
       "      <th>862</th>\n",
       "      <td>103.5940</td>\n",
       "      <td>968.906</td>\n",
       "      <td>314.0100</td>\n",
       "      <td>118.3070</td>\n",
       "      <td>87.9471</td>\n",
       "      <td>103.5940</td>\n",
       "      <td>72.3563</td>\n",
       "      <td>63.6152</td>\n",
       "      <td>47.1728</td>\n",
       "      <td>315.0110</td>\n",
       "      <td>...</td>\n",
       "      <td>142.908</td>\n",
       "      <td>113.3980</td>\n",
       "      <td>69.4401</td>\n",
       "      <td>902.3360</td>\n",
       "      <td>112.4170</td>\n",
       "      <td>85.0192</td>\n",
       "      <td>135.0250</td>\n",
       "      <td>13033.700</td>\n",
       "      <td>261.015</td>\n",
       "      <td>nonSLE</td>\n",
       "    </tr>\n",
       "    <tr>\n",
       "      <th>863</th>\n",
       "      <td>114.5400</td>\n",
       "      <td>1390.640</td>\n",
       "      <td>145.1040</td>\n",
       "      <td>197.6590</td>\n",
       "      <td>108.6430</td>\n",
       "      <td>99.8093</td>\n",
       "      <td>81.2161</td>\n",
       "      <td>79.2637</td>\n",
       "      <td>70.4906</td>\n",
       "      <td>672.3380</td>\n",
       "      <td>...</td>\n",
       "      <td>174.811</td>\n",
       "      <td>136.2150</td>\n",
       "      <td>297.5760</td>\n",
       "      <td>171.8350</td>\n",
       "      <td>126.3530</td>\n",
       "      <td>93.9293</td>\n",
       "      <td>61.7400</td>\n",
       "      <td>4645.730</td>\n",
       "      <td>340.774</td>\n",
       "      <td>nonSLE</td>\n",
       "    </tr>\n",
       "    <tr>\n",
       "      <th>864</th>\n",
       "      <td>161.1920</td>\n",
       "      <td>657.620</td>\n",
       "      <td>92.0882</td>\n",
       "      <td>283.0850</td>\n",
       "      <td>133.4540</td>\n",
       "      <td>119.6300</td>\n",
       "      <td>119.6300</td>\n",
       "      <td>120.6160</td>\n",
       "      <td>64.7232</td>\n",
       "      <td>139.3880</td>\n",
       "      <td>...</td>\n",
       "      <td>171.124</td>\n",
       "      <td>124.5630</td>\n",
       "      <td>113.7160</td>\n",
       "      <td>221.9570</td>\n",
       "      <td>327.3590</td>\n",
       "      <td>140.3780</td>\n",
       "      <td>90.1271</td>\n",
       "      <td>280.072</td>\n",
       "      <td>364.689</td>\n",
       "      <td>nonSLE</td>\n",
       "    </tr>\n",
       "    <tr>\n",
       "      <th>865</th>\n",
       "      <td>103.0280</td>\n",
       "      <td>284.642</td>\n",
       "      <td>51.1749</td>\n",
       "      <td>114.8620</td>\n",
       "      <td>82.3913</td>\n",
       "      <td>76.5149</td>\n",
       "      <td>93.1883</td>\n",
       "      <td>81.4113</td>\n",
       "      <td>40.5299</td>\n",
       "      <td>81.4113</td>\n",
       "      <td>...</td>\n",
       "      <td>130.682</td>\n",
       "      <td>67.7189</td>\n",
       "      <td>63.8173</td>\n",
       "      <td>6254.4900</td>\n",
       "      <td>62.8428</td>\n",
       "      <td>133.6530</td>\n",
       "      <td>52.1452</td>\n",
       "      <td>170.409</td>\n",
       "      <td>248.434</td>\n",
       "      <td>nonSLE</td>\n",
       "    </tr>\n",
       "  </tbody>\n",
       "</table>\n",
       "<p>1409 rows × 58 columns</p>\n",
       "</div>"
      ],
      "text/plain": [
       "      Actinin      ASCA   Beta2GP1       C1q       C3b  Cardiolipin   CCP1arg  \\\n",
       "2     94.8911  1117.530  1328.0800   88.0225  115.4250      55.1872   42.1010   \n",
       "4     99.9188  1295.260   119.1230  133.0480   59.4884      39.9630   39.0714   \n",
       "5    121.3530  2636.220    38.4903   85.9066  117.8180      38.4903   42.0952   \n",
       "8    145.0990   995.634   509.1220  171.8770  179.0070      60.6069   67.8459   \n",
       "9     66.0117   994.225    40.8654  184.3840   85.9921      44.1397   42.5038   \n",
       "..        ...       ...        ...       ...       ...          ...       ...   \n",
       "861  232.6780  2684.170   151.5480  612.2970  297.4040     116.1780  123.0410   \n",
       "862  103.5940   968.906   314.0100  118.3070   87.9471     103.5940   72.3563   \n",
       "863  114.5400  1390.640   145.1040  197.6590  108.6430      99.8093   81.2161   \n",
       "864  161.1920   657.620    92.0882  283.0850  133.4540     119.6300  119.6300   \n",
       "865  103.0280   284.642    51.1749  114.8620   82.3913      76.5149   93.1883   \n",
       "\n",
       "      CCP1cit      CENP        CMV  ...      Ro52        Ro60  RPP25ThTo  \\\n",
       "2     40.3490   65.5990  1177.9000  ...  1200.420   3849.4900    36.8393   \n",
       "4     39.0714   35.5006  1023.6600  ...   182.428    538.5860    47.0820   \n",
       "5     40.2934   53.7753    76.1163  ...   407.374   3314.8400    51.9816   \n",
       "8     52.4473  203.9280  8717.1000  ...   265.153    243.8840    66.9417   \n",
       "9     43.3220   33.4571  3849.9300  ...  1216.400  11671.5000    42.5038   \n",
       "..        ...       ...        ...  ...       ...         ...        ...   \n",
       "861  127.9480   62.5797   384.4660  ...   719.785    908.1220   130.8930   \n",
       "862   63.6152   47.1728   315.0110  ...   142.908    113.3980    69.4401   \n",
       "863   79.2637   70.4906   672.3380  ...   174.811    136.2150   297.5760   \n",
       "864  120.6160   64.7232   139.3880  ...   171.124    124.5630   113.7160   \n",
       "865   81.4113   40.5299    81.4113  ...   130.682     67.7189    63.8173   \n",
       "\n",
       "         Scl70      SmBB       SMP  TIF1gamma        TPO       tTG   Class  \n",
       "2     109.4460  222.8190  157.0750   283.8950   1011.080   170.611     SLE  \n",
       "4     126.9600   96.4191  114.7650    84.1488   1111.850   146.075     SLE  \n",
       "5     115.1650  721.0810  113.3960   154.8510    109.857   128.418     SLE  \n",
       "8     591.4510  291.7020  148.6730  4777.2800    765.190   211.928     SLE  \n",
       "9      76.4287   82.8095   66.8153   103.4140    716.172   237.993     SLE  \n",
       "..         ...       ...       ...        ...        ...       ...     ...  \n",
       "861   379.4510  171.2710  150.5630   171.2710   9299.620  1435.100  nonSLE  \n",
       "862   902.3360  112.4170   85.0192   135.0250  13033.700   261.015  nonSLE  \n",
       "863   171.8350  126.3530   93.9293    61.7400   4645.730   340.774  nonSLE  \n",
       "864   221.9570  327.3590  140.3780    90.1271    280.072   364.689  nonSLE  \n",
       "865  6254.4900   62.8428  133.6530    52.1452    170.409   248.434  nonSLE  \n",
       "\n",
       "[1409 rows x 58 columns]"
      ]
     },
     "execution_count": 20,
     "metadata": {},
     "output_type": "execute_result"
    }
   ],
   "source": [
    "df_all"
   ]
  },
  {
   "cell_type": "code",
   "execution_count": 21,
   "metadata": {},
   "outputs": [
    {
     "data": {
      "text/plain": [
       "SLE        484\n",
       "nonSLE     361\n",
       "IMID       346\n",
       "nonIMID    218\n",
       "Name: Class, dtype: int64"
      ]
     },
     "execution_count": 21,
     "metadata": {},
     "output_type": "execute_result"
    }
   ],
   "source": [
    "df_all['Class'].value_counts()"
   ]
  },
  {
   "cell_type": "markdown",
   "metadata": {},
   "source": [
    "# Write data"
   ]
  },
  {
   "cell_type": "code",
   "execution_count": 22,
   "metadata": {},
   "outputs": [],
   "source": [
    "feather.write_dataframe(df_all, \"../data/processed/imid.feather\")"
   ]
  }
 ],
 "metadata": {
  "kernelspec": {
   "display_name": "Python 3",
   "language": "python",
   "name": "python3"
  },
  "language_info": {
   "codemirror_mode": {
    "name": "ipython",
    "version": 3
   },
   "file_extension": ".py",
   "mimetype": "text/x-python",
   "name": "python",
   "nbconvert_exporter": "python",
   "pygments_lexer": "ipython3",
   "version": "3.7.5"
  },
  "pycharm": {
   "stem_cell": {
    "cell_type": "raw",
    "metadata": {
     "collapsed": false
    },
    "source": []
   }
  }
 },
 "nbformat": 4,
 "nbformat_minor": 4
}
